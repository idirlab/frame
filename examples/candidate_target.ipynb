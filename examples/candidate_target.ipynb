{
 "cells": [
  {
   "cell_type": "code",
   "execution_count": 2,
   "metadata": {},
   "outputs": [],
   "source": [
    "from Hydra.target_identification.candidate_identifier import LexicalUnitManager\n",
    "# Create a CandidateIdentifier object   \n",
    "lu_manager = LexicalUnitManager()\n",
    "lu_manager.load_lus()\n"
   ]
  },
  {
   "cell_type": "code",
   "execution_count": 3,
   "metadata": {},
   "outputs": [
    {
     "data": {
      "text/plain": [
       "{(4, 9): {'Speed_description', 'Taking_time'},\n",
       " (10, 15): {'Absorb_heat', 'Apply_heat', 'Color'},\n",
       " (20, 25): {'Attack',\n",
       "  'Change_position_on_a_scale',\n",
       "  'Self_motion',\n",
       "  'Sex',\n",
       "  'Traversing'},\n",
       " (26, 30): {'Distributed_position',\n",
       "  'Locative_relation',\n",
       "  'Non-gradable_proximity',\n",
       "  'Process_completed_state',\n",
       "  'Proportional_quantity',\n",
       "  'Temporal_collocation'},\n",
       " (35, 39): {'Dynamism'},\n",
       " (40, 42): {'Animals', 'Cotheme'}}"
      ]
     },
     "execution_count": 3,
     "metadata": {},
     "output_type": "execute_result"
    }
   ],
   "source": [
    "example_sentence = \"The quick brown fox jumps over the lazy dog.\"\n",
    "\n",
    "lu_manager.lookup_lus(example_sentence)"
   ]
  }
 ],
 "metadata": {
  "kernelspec": {
   "display_name": "Python 3",
   "language": "python",
   "name": "python3"
  },
  "language_info": {
   "codemirror_mode": {
    "name": "ipython",
    "version": 3
   },
   "file_extension": ".py",
   "mimetype": "text/x-python",
   "name": "python",
   "nbconvert_exporter": "python",
   "pygments_lexer": "ipython3",
   "version": "3.10.12"
  }
 },
 "nbformat": 4,
 "nbformat_minor": 2
}
