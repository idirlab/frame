{
 "cells": [
  {
   "cell_type": "code",
   "execution_count": 36,
   "metadata": {},
   "outputs": [],
   "source": [
    "import pandas as pd\n",
    "\n",
    "base_test = pd.read_csv('../frame_identification/data/fn1.7/test.csv')\n",
    "test_1cf = base_test[base_test.apply(lambda x: len(x['frame_names'].split('~$~')) == 1, axis=1)]\n",
    "\n",
    "test_1cf['lu_pos'] = test_1cf.apply(lambda x: x['lu_name'].split('.')[-1], axis=1)"
   ]
  },
  {
   "cell_type": "code",
   "execution_count": 19,
   "metadata": {},
   "outputs": [],
   "source": [
    "# Randomly sample 3 negative samples for each sample in the test set\n",
    "from Hydra.utils.data import get_framenet_metadata\n",
    "\n",
    "def get_similar_samples(frame_lu_defs, frame_name, lu):\n",
    "    lu_pos = lu.split('.')[-1]\n",
    "    \n",
    "    samples = frame_lu_defs.query(f'frame_name == \"{frame_name}\" and lu.str.endswith(\"{lu_pos}\") and lu != \"{lu}\"')\n",
    "    \n",
    "    if len(samples) > 4:\n",
    "        samples = samples.sample(4, random_state=0)\n",
    "    \n",
    "    if len(samples) < 4:\n",
    "        extra_samples = frame_lu_defs.query(f'frame_name == \"{frame_name}\" and lu != \"{lu}\"')\n",
    "        if len(extra_samples) > 4:\n",
    "            extra_samples = extra_samples.sample(4, random_state=0)\n",
    "        samples = pd.concat([samples, extra_samples]).drop_duplicates().iloc[:4]\n",
    "        \n",
    "    if len(samples) < 4:\n",
    "        extra_samples = frame_lu_defs.query(f'lu.str.endswith(\"{lu_pos}\") and lu != \"{lu}\"')\n",
    "        if len(extra_samples) > 4:\n",
    "            extra_samples = extra_samples.sample(4, random_state=0)\n",
    "        samples = pd.concat([samples, extra_samples]).drop_duplicates().iloc[:4]\n",
    "        \n",
    "    if len(samples) < 4:\n",
    "        extra_samples = frame_lu_defs.query(f'lu != \"{lu}\"')\n",
    "        if len(extra_samples) > 4:\n",
    "            extra_samples = extra_samples.sample(4, random_state=0)\n",
    "        samples = pd.concat([samples, extra_samples]).drop_duplicates().iloc[:4]\n",
    "    \n",
    "    return samples\n",
    "\n",
    "lu_manager, frame_info, frame_lu_defs = get_framenet_metadata()\n",
    "\n",
    "test_uu = []\n",
    "\n",
    "for i in range(len(test_1cf)):\n",
    "    sample = test_1cf.iloc[i][['frame_names', 'lu_name', 'lu_pos']]\n",
    "    similar_samples = get_similar_samples(frame_lu_defs, sample['frame_names'], sample['lu_name'])\n",
    "\n",
    "    test_uu.append(similar_samples)\n"
   ]
  },
  {
   "cell_type": "code",
   "execution_count": null,
   "metadata": {},
   "outputs": [],
   "source": []
  }
 ],
 "metadata": {
  "kernelspec": {
   "display_name": "Python 3",
   "language": "python",
   "name": "python3"
  },
  "language_info": {
   "codemirror_mode": {
    "name": "ipython",
    "version": 3
   },
   "file_extension": ".py",
   "mimetype": "text/x-python",
   "name": "python",
   "nbconvert_exporter": "python",
   "pygments_lexer": "ipython3",
   "version": "3.10.12"
  }
 },
 "nbformat": 4,
 "nbformat_minor": 2
}
