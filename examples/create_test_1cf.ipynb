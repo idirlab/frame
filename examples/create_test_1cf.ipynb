{
 "cells": [
  {
   "cell_type": "code",
   "execution_count": null,
   "metadata": {},
   "outputs": [],
   "source": [
    "import pandas as pd\n",
    "\n",
    "base_test = pd.read_csv('../frame_identification/data/fn1.7/test.csv')\n",
    "test_1cf = base_test[base_test.apply(lambda x: len(x['frame_names'].split('~$~')) == 1, axis=1)]"
   ]
  }
 ],
 "metadata": {
  "language_info": {
   "name": "python"
  }
 },
 "nbformat": 4,
 "nbformat_minor": 2
}
